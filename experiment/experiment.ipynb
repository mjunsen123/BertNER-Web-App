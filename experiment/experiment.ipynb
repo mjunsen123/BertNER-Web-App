{
 "cells": [
  {
   "cell_type": "code",
   "execution_count": 5,
   "metadata": {},
   "outputs": [],
   "source": [
    "from transformers import AutoTokenizer, AutoModelForTokenClassification\n",
    "from transformers import pipeline\n",
    "import json\n",
    "import pandas as pd"
   ]
  },
  {
   "cell_type": "code",
   "execution_count": 7,
   "metadata": {},
   "outputs": [],
   "source": [
    "tokenizer = AutoTokenizer.from_pretrained(\"dslim/bert-base-NER\")\n",
    "model = AutoModelForTokenClassification.from_pretrained(\"dslim/bert-base-NER\")\n",
    "nlp = pipeline(\"ner\", model=model, tokenizer=tokenizer)"
   ]
  },
  {
   "cell_type": "code",
   "execution_count": 11,
   "metadata": {},
   "outputs": [],
   "source": [
    "example = \"RGU is a university located in Aberdeen, south east part of Scotland\"\n",
    "ner_results = nlp(example)"
   ]
  },
  {
   "cell_type": "code",
   "execution_count": 12,
   "metadata": {},
   "outputs": [
    {
     "data": {
      "text/plain": [
       "[{'entity': 'B-ORG',\n",
       "  'score': 0.99754566,\n",
       "  'index': 1,\n",
       "  'word': 'R',\n",
       "  'start': 0,\n",
       "  'end': 1},\n",
       " {'entity': 'I-ORG',\n",
       "  'score': 0.9739576,\n",
       "  'index': 2,\n",
       "  'word': '##G',\n",
       "  'start': 1,\n",
       "  'end': 2},\n",
       " {'entity': 'I-ORG',\n",
       "  'score': 0.9781341,\n",
       "  'index': 3,\n",
       "  'word': '##U',\n",
       "  'start': 2,\n",
       "  'end': 3},\n",
       " {'entity': 'B-LOC',\n",
       "  'score': 0.99568594,\n",
       "  'index': 9,\n",
       "  'word': 'Aberdeen',\n",
       "  'start': 31,\n",
       "  'end': 39},\n",
       " {'entity': 'B-LOC',\n",
       "  'score': 0.9995809,\n",
       "  'index': 15,\n",
       "  'word': 'Scotland',\n",
       "  'start': 60,\n",
       "  'end': 68}]"
      ]
     },
     "execution_count": 12,
     "metadata": {},
     "output_type": "execute_result"
    }
   ],
   "source": [
    "ner_results"
   ]
  },
  {
   "cell_type": "code",
   "execution_count": 9,
   "metadata": {},
   "outputs": [
    {
     "data": {
      "text/html": [
       "<div>\n",
       "<style scoped>\n",
       "    .dataframe tbody tr th:only-of-type {\n",
       "        vertical-align: middle;\n",
       "    }\n",
       "\n",
       "    .dataframe tbody tr th {\n",
       "        vertical-align: top;\n",
       "    }\n",
       "\n",
       "    .dataframe thead th {\n",
       "        text-align: right;\n",
       "    }\n",
       "</style>\n",
       "<table border=\"1\" class=\"dataframe\">\n",
       "  <thead>\n",
       "    <tr style=\"text-align: right;\">\n",
       "      <th></th>\n",
       "      <th>entity</th>\n",
       "      <th>score</th>\n",
       "      <th>index</th>\n",
       "      <th>word</th>\n",
       "      <th>start</th>\n",
       "      <th>end</th>\n",
       "      <th>parentEntity</th>\n",
       "      <th>beginning</th>\n",
       "      <th>groupNER</th>\n",
       "    </tr>\n",
       "  </thead>\n",
       "  <tbody>\n",
       "    <tr>\n",
       "      <th>0</th>\n",
       "      <td>B-ORG</td>\n",
       "      <td>0.997546</td>\n",
       "      <td>1</td>\n",
       "      <td>R</td>\n",
       "      <td>0</td>\n",
       "      <td>1</td>\n",
       "      <td>ORG</td>\n",
       "      <td>True</td>\n",
       "      <td>1</td>\n",
       "    </tr>\n",
       "    <tr>\n",
       "      <th>1</th>\n",
       "      <td>I-ORG</td>\n",
       "      <td>0.973958</td>\n",
       "      <td>2</td>\n",
       "      <td>##G</td>\n",
       "      <td>1</td>\n",
       "      <td>2</td>\n",
       "      <td>ORG</td>\n",
       "      <td>False</td>\n",
       "      <td>1</td>\n",
       "    </tr>\n",
       "    <tr>\n",
       "      <th>2</th>\n",
       "      <td>I-ORG</td>\n",
       "      <td>0.978134</td>\n",
       "      <td>3</td>\n",
       "      <td>##U</td>\n",
       "      <td>2</td>\n",
       "      <td>3</td>\n",
       "      <td>ORG</td>\n",
       "      <td>False</td>\n",
       "      <td>1</td>\n",
       "    </tr>\n",
       "    <tr>\n",
       "      <th>3</th>\n",
       "      <td>B-LOC</td>\n",
       "      <td>0.995686</td>\n",
       "      <td>9</td>\n",
       "      <td>Aberdeen</td>\n",
       "      <td>31</td>\n",
       "      <td>39</td>\n",
       "      <td>LOC</td>\n",
       "      <td>True</td>\n",
       "      <td>2</td>\n",
       "    </tr>\n",
       "    <tr>\n",
       "      <th>4</th>\n",
       "      <td>B-LOC</td>\n",
       "      <td>0.999581</td>\n",
       "      <td>15</td>\n",
       "      <td>Scotland</td>\n",
       "      <td>60</td>\n",
       "      <td>68</td>\n",
       "      <td>LOC</td>\n",
       "      <td>True</td>\n",
       "      <td>3</td>\n",
       "    </tr>\n",
       "  </tbody>\n",
       "</table>\n",
       "</div>"
      ],
      "text/plain": [
       "  entity     score  index      word  start  end parentEntity  beginning  \\\n",
       "0  B-ORG  0.997546      1         R      0    1          ORG       True   \n",
       "1  I-ORG  0.973958      2       ##G      1    2          ORG      False   \n",
       "2  I-ORG  0.978134      3       ##U      2    3          ORG      False   \n",
       "3  B-LOC  0.995686      9  Aberdeen     31   39          LOC       True   \n",
       "4  B-LOC  0.999581     15  Scotland     60   68          LOC       True   \n",
       "\n",
       "   groupNER  \n",
       "0         1  \n",
       "1         1  \n",
       "2         1  \n",
       "3         2  \n",
       "4         3  "
      ]
     },
     "execution_count": 9,
     "metadata": {},
     "output_type": "execute_result"
    }
   ],
   "source": [
    "ner_results = nlp(example)\n",
    "counter = 0\n",
    "for index in range(len(ner_results)):\n",
    "    \n",
    "    ner_results[index][\"parentEntity\"] = ner_results[index][\"entity\"][-3:]\n",
    "    if ner_results[index][\"entity\"][0] == \"B\":\n",
    "        ner_results[index][\"beginning\"] = True\n",
    "        counter += 1\n",
    "    else:\n",
    "        ner_results[index][\"beginning\"] = False\n",
    "    ner_results[index][\"groupNER\"] = counter\n",
    "\n",
    "df = pd.DataFrame(ner_results)\n",
    "df"
   ]
  },
  {
   "cell_type": "code",
   "execution_count": 25,
   "metadata": {},
   "outputs": [
    {
     "data": {
      "text/html": [
       "<div>\n",
       "<style scoped>\n",
       "    .dataframe tbody tr th:only-of-type {\n",
       "        vertical-align: middle;\n",
       "    }\n",
       "\n",
       "    .dataframe tbody tr th {\n",
       "        vertical-align: top;\n",
       "    }\n",
       "\n",
       "    .dataframe thead th {\n",
       "        text-align: right;\n",
       "    }\n",
       "</style>\n",
       "<table border=\"1\" class=\"dataframe\">\n",
       "  <thead>\n",
       "    <tr style=\"text-align: right;\">\n",
       "      <th></th>\n",
       "      <th>parentEntity</th>\n",
       "      <th>word</th>\n",
       "    </tr>\n",
       "  </thead>\n",
       "  <tbody>\n",
       "    <tr>\n",
       "      <th>0</th>\n",
       "      <td>ORG</td>\n",
       "      <td>RGU</td>\n",
       "    </tr>\n",
       "    <tr>\n",
       "      <th>3</th>\n",
       "      <td>LOC</td>\n",
       "      <td>Aberdeen</td>\n",
       "    </tr>\n",
       "    <tr>\n",
       "      <th>4</th>\n",
       "      <td>LOC</td>\n",
       "      <td>Scotland</td>\n",
       "    </tr>\n",
       "  </tbody>\n",
       "</table>\n",
       "</div>"
      ],
      "text/plain": [
       "  parentEntity      word\n",
       "0          ORG       RGU\n",
       "3          LOC  Aberdeen\n",
       "4          LOC  Scotland"
      ]
     },
     "execution_count": 25,
     "metadata": {},
     "output_type": "execute_result"
    }
   ],
   "source": [
    "# df = df.groupby(['groupNER']).aggregate({'start':'min','end':'max'}).reset_index()\n",
    "# df = df.sort_values(by=['start']).reset_index()\n",
    "df['word'] = df.groupby(['groupNER'])['word'].transform(lambda x: ' '.join(x))\n",
    "df['word'] = df['word'].apply(lambda x: x.replace('#',''))\n",
    "df['word'] = df['word'].apply(lambda x: x.replace(' ',''))\n",
    "# df = df.groupby(['groupNER','parentEntity','word','beginning']).aggregate({'start':'min','end':'max'}).reset_index()\n",
    "df = df[df['beginning']==True]\n",
    "df = df[[\"parentEntity\",\"word\"]]\n",
    "df"
   ]
  },
  {
   "cell_type": "code",
   "execution_count": 26,
   "metadata": {},
   "outputs": [],
   "source": [
    "def postProcessing(input):\n",
    "        tokenizer = AutoTokenizer.from_pretrained(\"dslim/bert-base-NER\")\n",
    "        model = AutoModelForTokenClassification.from_pretrained(\"dslim/bert-base-NER\")\n",
    "\n",
    "        languageModel = pipeline(\"ner\", model=model, tokenizer=tokenizer)\n",
    "        ner_results = languageModel(input)\n",
    "\n",
    "        counter = 0\n",
    "        for index in range(len(ner_results)):\n",
    "            ner_results[index][\"parentEntity\"] = ner_results[index][\"entity\"][-3:]\n",
    "            if ner_results[index][\"entity\"][0] == \"B\":\n",
    "                ner_results[index][\"beginning\"] = True\n",
    "                counter += 1\n",
    "            else:\n",
    "                ner_results[index][\"beginning\"] = False\n",
    "            ner_results[index][\"groupNER\"] = counter\n",
    "\n",
    "        df = pd.DataFrame(ner_results)\n",
    "        df['word'] = df.groupby(['groupNER'])['word'].transform(lambda x: ' '.join(x))\n",
    "        df['word'] = df['word'].apply(lambda x: x.replace('#',''))\n",
    "        df['word'] = df['word'].apply(lambda x: x.replace(' ',''))\n",
    "        \n",
    "        df = df[df['beginning']==True]\n",
    "        df = df[[\"parentEntity\",\"word\"]]\n",
    "        js = df.to_json(orient = \"records\")\n",
    "        return js"
   ]
  },
  {
   "cell_type": "code",
   "execution_count": 27,
   "metadata": {},
   "outputs": [],
   "source": [
    "def highlightWord(js,text):\n",
    "    \n",
    "    json_data = json.loads(js)\n",
    "    html = '<p>'\n",
    "    for word in text.split():\n",
    "        highlighted = False\n",
    "        for item in json_data:\n",
    "            if item['word'] == word:\n",
    "                html += f'<mark>{word}</mark> '\n",
    "                highlighted = True\n",
    "                break\n",
    "        if not highlighted:\n",
    "            html += f'{word} '\n",
    "    html += '</p>'\n",
    "    return html"
   ]
  },
  {
   "cell_type": "code",
   "execution_count": 28,
   "metadata": {},
   "outputs": [],
   "source": [
    "input = \"RGU is a university located in Aberdeen, south east part of Scotland\"\n",
    "js = postProcessing(input)\n",
    "html = highlightWord(js,input)"
   ]
  },
  {
   "cell_type": "code",
   "execution_count": 29,
   "metadata": {},
   "outputs": [
    {
     "data": {
      "text/plain": [
       "'[{\"parentEntity\":\"ORG\",\"word\":\"RGU\"},{\"parentEntity\":\"LOC\",\"word\":\"Aberdeen\"},{\"parentEntity\":\"LOC\",\"word\":\"Scotland\"}]'"
      ]
     },
     "execution_count": 29,
     "metadata": {},
     "output_type": "execute_result"
    }
   ],
   "source": [
    "js"
   ]
  },
  {
   "cell_type": "code",
   "execution_count": 30,
   "metadata": {},
   "outputs": [
    {
     "data": {
      "text/plain": [
       "'<p><mark>RGU</mark> is a university located in Aberdeen, south east part of <mark>Scotland</mark> </p>'"
      ]
     },
     "execution_count": 30,
     "metadata": {},
     "output_type": "execute_result"
    }
   ],
   "source": [
    "html"
   ]
  },
  {
   "cell_type": "code",
   "execution_count": 119,
   "metadata": {},
   "outputs": [
    {
     "data": {
      "text/html": [
       "<div>\n",
       "<style scoped>\n",
       "    .dataframe tbody tr th:only-of-type {\n",
       "        vertical-align: middle;\n",
       "    }\n",
       "\n",
       "    .dataframe tbody tr th {\n",
       "        vertical-align: top;\n",
       "    }\n",
       "\n",
       "    .dataframe thead th {\n",
       "        text-align: right;\n",
       "    }\n",
       "</style>\n",
       "<table border=\"1\" class=\"dataframe\">\n",
       "  <thead>\n",
       "    <tr style=\"text-align: right;\">\n",
       "      <th></th>\n",
       "      <th>entity</th>\n",
       "      <th>score</th>\n",
       "      <th>index</th>\n",
       "      <th>word</th>\n",
       "      <th>start</th>\n",
       "      <th>end</th>\n",
       "      <th>beginning</th>\n",
       "      <th>parentEntity</th>\n",
       "    </tr>\n",
       "  </thead>\n",
       "  <tbody>\n",
       "    <tr>\n",
       "      <th>0</th>\n",
       "      <td>B-ORG</td>\n",
       "      <td>0.997546</td>\n",
       "      <td>1</td>\n",
       "      <td>ORG</td>\n",
       "      <td>0</td>\n",
       "      <td>1</td>\n",
       "      <td>True</td>\n",
       "      <td>ORG</td>\n",
       "    </tr>\n",
       "    <tr>\n",
       "      <th>1</th>\n",
       "      <td>I-ORG</td>\n",
       "      <td>0.973958</td>\n",
       "      <td>2</td>\n",
       "      <td>ORG</td>\n",
       "      <td>1</td>\n",
       "      <td>2</td>\n",
       "      <td>False</td>\n",
       "      <td>ORG</td>\n",
       "    </tr>\n",
       "    <tr>\n",
       "      <th>2</th>\n",
       "      <td>I-ORG</td>\n",
       "      <td>0.978134</td>\n",
       "      <td>3</td>\n",
       "      <td>ORG</td>\n",
       "      <td>2</td>\n",
       "      <td>3</td>\n",
       "      <td>False</td>\n",
       "      <td>ORG</td>\n",
       "    </tr>\n",
       "    <tr>\n",
       "      <th>3</th>\n",
       "      <td>B-LOC</td>\n",
       "      <td>0.995686</td>\n",
       "      <td>9</td>\n",
       "      <td>LOC</td>\n",
       "      <td>31</td>\n",
       "      <td>39</td>\n",
       "      <td>True</td>\n",
       "      <td>LOC</td>\n",
       "    </tr>\n",
       "    <tr>\n",
       "      <th>4</th>\n",
       "      <td>B-LOC</td>\n",
       "      <td>0.999581</td>\n",
       "      <td>15</td>\n",
       "      <td>LOC</td>\n",
       "      <td>60</td>\n",
       "      <td>68</td>\n",
       "      <td>True</td>\n",
       "      <td>LOC</td>\n",
       "    </tr>\n",
       "  </tbody>\n",
       "</table>\n",
       "</div>"
      ],
      "text/plain": [
       "  entity     score  index word  start  end  beginning parentEntity\n",
       "0  B-ORG  0.997546      1  ORG      0    1       True          ORG\n",
       "1  I-ORG  0.973958      2  ORG      1    2      False          ORG\n",
       "2  I-ORG  0.978134      3  ORG      2    3      False          ORG\n",
       "3  B-LOC  0.995686      9  LOC     31   39       True          LOC\n",
       "4  B-LOC  0.999581     15  LOC     60   68       True          LOC"
      ]
     },
     "execution_count": 119,
     "metadata": {},
     "output_type": "execute_result"
    }
   ],
   "source": [
    "# df[\"groupStart\"] =  df[\"start\"]\n",
    "df[\"beginning\"] = df[\"entity\"].apply(lambda x: True if x[0] == \"B\" else False)\n",
    "# df[\"groupStart\"] = df.apply(lambda x: groupStart(x[\"start\"],x[\"beginning\"],x[\"groupStart\"]),axis=1)\n",
    "df[\"parentEntity\"] = df[\"entity\"].apply(lambda x:x[-3:])\n",
    "df[\"score\"]=df[\"score\"].astype(\"float64\")\n",
    "df[\"entity\"]=df[\"entity\"].astype(\"string\")\n",
    "df[\"word\"]=df[\"parentEntity\"].astype(\"string\")\n",
    "df[\"parentEntity\"]=df[\"parentEntity\"].astype(\"string\")\n",
    "df.dtypes"
   ]
  },
  {
   "cell_type": "code",
   "execution_count": 120,
   "metadata": {},
   "outputs": [],
   "source": [
    "js = df.to_json(orient = \"records\")"
   ]
  },
  {
   "cell_type": "code",
   "execution_count": 123,
   "metadata": {},
   "outputs": [
    {
     "data": {
      "text/plain": [
       "str"
      ]
     },
     "execution_count": 123,
     "metadata": {},
     "output_type": "execute_result"
    }
   ],
   "source": [
    "type(js)"
   ]
  }
 ],
 "metadata": {
  "kernelspec": {
   "display_name": "flask",
   "language": "python",
   "name": "python3"
  },
  "language_info": {
   "codemirror_mode": {
    "name": "ipython",
    "version": 3
   },
   "file_extension": ".py",
   "mimetype": "text/x-python",
   "name": "python",
   "nbconvert_exporter": "python",
   "pygments_lexer": "ipython3",
   "version": "3.8.12"
  },
  "orig_nbformat": 4,
  "vscode": {
   "interpreter": {
    "hash": "d0d19b63147ef9b0a53647d952a2d2edd9fbfe7ed805a93dc8eccfd49b324342"
   }
  }
 },
 "nbformat": 4,
 "nbformat_minor": 2
}
