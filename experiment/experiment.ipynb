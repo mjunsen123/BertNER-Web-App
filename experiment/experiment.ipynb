{
 "cells": [
  {
   "cell_type": "code",
   "execution_count": 95,
   "metadata": {},
   "outputs": [],
   "source": [
    "from transformers import AutoTokenizer, AutoModelForTokenClassification\n",
    "from transformers import pipeline\n",
    "import json\n",
    "import pandas as pd"
   ]
  },
  {
   "cell_type": "code",
   "execution_count": 126,
   "metadata": {},
   "outputs": [],
   "source": [
    "tokenizer = AutoTokenizer.from_pretrained(\"dslim/bert-base-NER\")\n",
    "model = AutoModelForTokenClassification.from_pretrained(\"dslim/bert-base-NER\")"
   ]
  },
  {
   "cell_type": "code",
   "execution_count": 127,
   "metadata": {},
   "outputs": [],
   "source": [
    "text = \"RGU is a university located in Aberdeen, south east part of Scotland\"\n",
    "inputs = tokenizer(text, return_tensors=\"pt\")\n",
    "outputs = model(**inputs)"
   ]
  },
  {
   "cell_type": "code",
   "execution_count": 143,
   "metadata": {},
   "outputs": [],
   "source": [
    "nlp = pipeline(\"ner\", model=model, tokenizer=tokenizer)\n",
    "example = \"RGU is a university located in Aberdeen, south east part of Scotland\""
   ]
  },
  {
   "cell_type": "code",
   "execution_count": 167,
   "metadata": {},
   "outputs": [
    {
     "data": {
      "text/html": [
       "<div>\n",
       "<style scoped>\n",
       "    .dataframe tbody tr th:only-of-type {\n",
       "        vertical-align: middle;\n",
       "    }\n",
       "\n",
       "    .dataframe tbody tr th {\n",
       "        vertical-align: top;\n",
       "    }\n",
       "\n",
       "    .dataframe thead th {\n",
       "        text-align: right;\n",
       "    }\n",
       "</style>\n",
       "<table border=\"1\" class=\"dataframe\">\n",
       "  <thead>\n",
       "    <tr style=\"text-align: right;\">\n",
       "      <th></th>\n",
       "      <th>entity</th>\n",
       "      <th>score</th>\n",
       "      <th>index</th>\n",
       "      <th>word</th>\n",
       "      <th>start</th>\n",
       "      <th>end</th>\n",
       "    </tr>\n",
       "  </thead>\n",
       "  <tbody>\n",
       "    <tr>\n",
       "      <th>0</th>\n",
       "      <td>B-ORG</td>\n",
       "      <td>0.997546</td>\n",
       "      <td>1</td>\n",
       "      <td>R</td>\n",
       "      <td>0</td>\n",
       "      <td>1</td>\n",
       "    </tr>\n",
       "    <tr>\n",
       "      <th>1</th>\n",
       "      <td>I-ORG</td>\n",
       "      <td>0.973958</td>\n",
       "      <td>2</td>\n",
       "      <td>##G</td>\n",
       "      <td>1</td>\n",
       "      <td>2</td>\n",
       "    </tr>\n",
       "    <tr>\n",
       "      <th>2</th>\n",
       "      <td>I-ORG</td>\n",
       "      <td>0.978134</td>\n",
       "      <td>3</td>\n",
       "      <td>##U</td>\n",
       "      <td>2</td>\n",
       "      <td>3</td>\n",
       "    </tr>\n",
       "    <tr>\n",
       "      <th>3</th>\n",
       "      <td>B-LOC</td>\n",
       "      <td>0.995686</td>\n",
       "      <td>9</td>\n",
       "      <td>Aberdeen</td>\n",
       "      <td>31</td>\n",
       "      <td>39</td>\n",
       "    </tr>\n",
       "    <tr>\n",
       "      <th>4</th>\n",
       "      <td>B-LOC</td>\n",
       "      <td>0.999581</td>\n",
       "      <td>15</td>\n",
       "      <td>Scotland</td>\n",
       "      <td>60</td>\n",
       "      <td>68</td>\n",
       "    </tr>\n",
       "  </tbody>\n",
       "</table>\n",
       "</div>"
      ],
      "text/plain": [
       "  entity     score  index      word  start  end\n",
       "0  B-ORG  0.997546      1         R      0    1\n",
       "1  I-ORG  0.973958      2       ##G      1    2\n",
       "2  I-ORG  0.978134      3       ##U      2    3\n",
       "3  B-LOC  0.995686      9  Aberdeen     31   39\n",
       "4  B-LOC  0.999581     15  Scotland     60   68"
      ]
     },
     "execution_count": 167,
     "metadata": {},
     "output_type": "execute_result"
    }
   ],
   "source": [
    "ner_results = nlp(example)\n"
   ]
  },
  {
   "cell_type": "code",
   "execution_count": 332,
   "metadata": {},
   "outputs": [
    {
     "data": {
      "text/html": [
       "<div>\n",
       "<style scoped>\n",
       "    .dataframe tbody tr th:only-of-type {\n",
       "        vertical-align: middle;\n",
       "    }\n",
       "\n",
       "    .dataframe tbody tr th {\n",
       "        vertical-align: top;\n",
       "    }\n",
       "\n",
       "    .dataframe thead th {\n",
       "        text-align: right;\n",
       "    }\n",
       "</style>\n",
       "<table border=\"1\" class=\"dataframe\">\n",
       "  <thead>\n",
       "    <tr style=\"text-align: right;\">\n",
       "      <th></th>\n",
       "      <th>entity</th>\n",
       "      <th>score</th>\n",
       "      <th>index</th>\n",
       "      <th>word</th>\n",
       "      <th>start</th>\n",
       "      <th>end</th>\n",
       "      <th>parentEntity</th>\n",
       "      <th>beginning</th>\n",
       "      <th>groupNER</th>\n",
       "    </tr>\n",
       "  </thead>\n",
       "  <tbody>\n",
       "    <tr>\n",
       "      <th>0</th>\n",
       "      <td>B-ORG</td>\n",
       "      <td>0.997546</td>\n",
       "      <td>1</td>\n",
       "      <td>R</td>\n",
       "      <td>0</td>\n",
       "      <td>1</td>\n",
       "      <td>ORG</td>\n",
       "      <td>True</td>\n",
       "      <td>1</td>\n",
       "    </tr>\n",
       "    <tr>\n",
       "      <th>1</th>\n",
       "      <td>I-ORG</td>\n",
       "      <td>0.973958</td>\n",
       "      <td>2</td>\n",
       "      <td>##G</td>\n",
       "      <td>1</td>\n",
       "      <td>2</td>\n",
       "      <td>ORG</td>\n",
       "      <td>False</td>\n",
       "      <td>1</td>\n",
       "    </tr>\n",
       "    <tr>\n",
       "      <th>2</th>\n",
       "      <td>I-ORG</td>\n",
       "      <td>0.978134</td>\n",
       "      <td>3</td>\n",
       "      <td>##U</td>\n",
       "      <td>2</td>\n",
       "      <td>3</td>\n",
       "      <td>ORG</td>\n",
       "      <td>False</td>\n",
       "      <td>1</td>\n",
       "    </tr>\n",
       "    <tr>\n",
       "      <th>3</th>\n",
       "      <td>B-LOC</td>\n",
       "      <td>0.995686</td>\n",
       "      <td>9</td>\n",
       "      <td>Aberdeen</td>\n",
       "      <td>31</td>\n",
       "      <td>39</td>\n",
       "      <td>LOC</td>\n",
       "      <td>True</td>\n",
       "      <td>2</td>\n",
       "    </tr>\n",
       "    <tr>\n",
       "      <th>4</th>\n",
       "      <td>B-LOC</td>\n",
       "      <td>0.999581</td>\n",
       "      <td>15</td>\n",
       "      <td>Scotland</td>\n",
       "      <td>60</td>\n",
       "      <td>68</td>\n",
       "      <td>LOC</td>\n",
       "      <td>True</td>\n",
       "      <td>3</td>\n",
       "    </tr>\n",
       "  </tbody>\n",
       "</table>\n",
       "</div>"
      ],
      "text/plain": [
       "  entity     score  index      word  start  end parentEntity  beginning  \\\n",
       "0  B-ORG  0.997546      1         R      0    1          ORG       True   \n",
       "1  I-ORG  0.973958      2       ##G      1    2          ORG      False   \n",
       "2  I-ORG  0.978134      3       ##U      2    3          ORG      False   \n",
       "3  B-LOC  0.995686      9  Aberdeen     31   39          LOC       True   \n",
       "4  B-LOC  0.999581     15  Scotland     60   68          LOC       True   \n",
       "\n",
       "   groupNER  \n",
       "0         1  \n",
       "1         1  \n",
       "2         1  \n",
       "3         2  \n",
       "4         3  "
      ]
     },
     "execution_count": 332,
     "metadata": {},
     "output_type": "execute_result"
    }
   ],
   "source": [
    "ner_results = nlp(example)\n",
    "counter = 0\n",
    "for index in range(len(ner_results)):\n",
    "    \n",
    "    ner_results[index][\"parentEntity\"] = ner_results[index][\"entity\"][-3:]\n",
    "    if ner_results[index][\"entity\"][0] == \"B\":\n",
    "        ner_results[index][\"beginning\"] = True\n",
    "        counter += 1\n",
    "    else:\n",
    "        ner_results[index][\"beginning\"] = False\n",
    "    ner_results[index][\"groupNER\"] = counter\n",
    "\n",
    "df = pd.DataFrame(ner_results)\n",
    "df"
   ]
  },
  {
   "cell_type": "code",
   "execution_count": 333,
   "metadata": {},
   "outputs": [
    {
     "data": {
      "text/html": [
       "<div>\n",
       "<style scoped>\n",
       "    .dataframe tbody tr th:only-of-type {\n",
       "        vertical-align: middle;\n",
       "    }\n",
       "\n",
       "    .dataframe tbody tr th {\n",
       "        vertical-align: top;\n",
       "    }\n",
       "\n",
       "    .dataframe thead th {\n",
       "        text-align: right;\n",
       "    }\n",
       "</style>\n",
       "<table border=\"1\" class=\"dataframe\">\n",
       "  <thead>\n",
       "    <tr style=\"text-align: right;\">\n",
       "      <th></th>\n",
       "      <th>parentEntity</th>\n",
       "      <th>word</th>\n",
       "    </tr>\n",
       "  </thead>\n",
       "  <tbody>\n",
       "    <tr>\n",
       "      <th>0</th>\n",
       "      <td>ORG</td>\n",
       "      <td>RGU</td>\n",
       "    </tr>\n",
       "    <tr>\n",
       "      <th>3</th>\n",
       "      <td>LOC</td>\n",
       "      <td>Aberdeen</td>\n",
       "    </tr>\n",
       "    <tr>\n",
       "      <th>4</th>\n",
       "      <td>LOC</td>\n",
       "      <td>Scotland</td>\n",
       "    </tr>\n",
       "  </tbody>\n",
       "</table>\n",
       "</div>"
      ],
      "text/plain": [
       "  parentEntity      word\n",
       "0          ORG       RGU\n",
       "3          LOC  Aberdeen\n",
       "4          LOC  Scotland"
      ]
     },
     "execution_count": 333,
     "metadata": {},
     "output_type": "execute_result"
    }
   ],
   "source": [
    "# df = df.groupby(['groupNER']).aggregate({'start':'min','end':'max'}).reset_index()\n",
    "# df = df.sort_values(by=['start']).reset_index()\n",
    "df['word'] = df.groupby(['groupNER'])['word'].transform(lambda x: ' '.join(x))\n",
    "df['word'] = df['word'].apply(lambda x: x.replace('#',''))\n",
    "df['word'] = df['word'].apply(lambda x: x.replace(' ',''))\n",
    "# df = df.groupby(['groupNER','parentEntity','word','beginning']).aggregate({'start':'min','end':'max'}).reset_index()\n",
    "df = df[df['beginning']==True]\n",
    "df = df[[\"parentEntity\",\"word\"]]\n",
    "df"
   ]
  },
  {
   "cell_type": "code",
   "execution_count": 240,
   "metadata": {},
   "outputs": [
    {
     "data": {
      "text/html": [
       "<div>\n",
       "<style scoped>\n",
       "    .dataframe tbody tr th:only-of-type {\n",
       "        vertical-align: middle;\n",
       "    }\n",
       "\n",
       "    .dataframe tbody tr th {\n",
       "        vertical-align: top;\n",
       "    }\n",
       "\n",
       "    .dataframe thead th {\n",
       "        text-align: right;\n",
       "    }\n",
       "</style>\n",
       "<table border=\"1\" class=\"dataframe\">\n",
       "  <thead>\n",
       "    <tr style=\"text-align: right;\">\n",
       "      <th></th>\n",
       "      <th>index</th>\n",
       "      <th>entity</th>\n",
       "      <th>word</th>\n",
       "      <th>groupNER</th>\n",
       "      <th>parentEntity</th>\n",
       "      <th>beginning</th>\n",
       "      <th>start</th>\n",
       "      <th>end</th>\n",
       "    </tr>\n",
       "  </thead>\n",
       "  <tbody>\n",
       "    <tr>\n",
       "      <th>0</th>\n",
       "      <td>2</td>\n",
       "      <td>B-ORG</td>\n",
       "      <td>R##G##U</td>\n",
       "      <td>1</td>\n",
       "      <td>ORG</td>\n",
       "      <td>True</td>\n",
       "      <td>0</td>\n",
       "      <td>1</td>\n",
       "    </tr>\n",
       "    <tr>\n",
       "      <th>3</th>\n",
       "      <td>0</td>\n",
       "      <td>B-LOC</td>\n",
       "      <td>Aberdeen</td>\n",
       "      <td>2</td>\n",
       "      <td>LOC</td>\n",
       "      <td>True</td>\n",
       "      <td>31</td>\n",
       "      <td>39</td>\n",
       "    </tr>\n",
       "    <tr>\n",
       "      <th>4</th>\n",
       "      <td>1</td>\n",
       "      <td>B-LOC</td>\n",
       "      <td>Scotland</td>\n",
       "      <td>3</td>\n",
       "      <td>LOC</td>\n",
       "      <td>True</td>\n",
       "      <td>60</td>\n",
       "      <td>68</td>\n",
       "    </tr>\n",
       "  </tbody>\n",
       "</table>\n",
       "</div>"
      ],
      "text/plain": [
       "   index entity      word  groupNER parentEntity  beginning  start  end\n",
       "0      2  B-ORG   R##G##U         1          ORG       True      0    1\n",
       "3      0  B-LOC  Aberdeen         2          LOC       True     31   39\n",
       "4      1  B-LOC  Scotland         3          LOC       True     60   68"
      ]
     },
     "execution_count": 240,
     "metadata": {},
     "output_type": "execute_result"
    }
   ],
   "source": [
    "df"
   ]
  },
  {
   "cell_type": "code",
   "execution_count": 187,
   "metadata": {},
   "outputs": [
    {
     "data": {
      "text/plain": [
       "'[{\"groupNER\":1,\"parentEntity\":\"ORG\",\"start\":0,\"end\":3},{\"groupNER\":2,\"parentEntity\":\"LOC\",\"start\":31,\"end\":39},{\"groupNER\":3,\"parentEntity\":\"LOC\",\"start\":60,\"end\":68}]'"
      ]
     },
     "execution_count": 187,
     "metadata": {},
     "output_type": "execute_result"
    }
   ],
   "source": [
    "js = df.to_json(orient = \"records\")"
   ]
  },
  {
   "cell_type": "code",
   "execution_count": 119,
   "metadata": {},
   "outputs": [
    {
     "data": {
      "text/html": [
       "<div>\n",
       "<style scoped>\n",
       "    .dataframe tbody tr th:only-of-type {\n",
       "        vertical-align: middle;\n",
       "    }\n",
       "\n",
       "    .dataframe tbody tr th {\n",
       "        vertical-align: top;\n",
       "    }\n",
       "\n",
       "    .dataframe thead th {\n",
       "        text-align: right;\n",
       "    }\n",
       "</style>\n",
       "<table border=\"1\" class=\"dataframe\">\n",
       "  <thead>\n",
       "    <tr style=\"text-align: right;\">\n",
       "      <th></th>\n",
       "      <th>entity</th>\n",
       "      <th>score</th>\n",
       "      <th>index</th>\n",
       "      <th>word</th>\n",
       "      <th>start</th>\n",
       "      <th>end</th>\n",
       "      <th>beginning</th>\n",
       "      <th>parentEntity</th>\n",
       "    </tr>\n",
       "  </thead>\n",
       "  <tbody>\n",
       "    <tr>\n",
       "      <th>0</th>\n",
       "      <td>B-ORG</td>\n",
       "      <td>0.997546</td>\n",
       "      <td>1</td>\n",
       "      <td>ORG</td>\n",
       "      <td>0</td>\n",
       "      <td>1</td>\n",
       "      <td>True</td>\n",
       "      <td>ORG</td>\n",
       "    </tr>\n",
       "    <tr>\n",
       "      <th>1</th>\n",
       "      <td>I-ORG</td>\n",
       "      <td>0.973958</td>\n",
       "      <td>2</td>\n",
       "      <td>ORG</td>\n",
       "      <td>1</td>\n",
       "      <td>2</td>\n",
       "      <td>False</td>\n",
       "      <td>ORG</td>\n",
       "    </tr>\n",
       "    <tr>\n",
       "      <th>2</th>\n",
       "      <td>I-ORG</td>\n",
       "      <td>0.978134</td>\n",
       "      <td>3</td>\n",
       "      <td>ORG</td>\n",
       "      <td>2</td>\n",
       "      <td>3</td>\n",
       "      <td>False</td>\n",
       "      <td>ORG</td>\n",
       "    </tr>\n",
       "    <tr>\n",
       "      <th>3</th>\n",
       "      <td>B-LOC</td>\n",
       "      <td>0.995686</td>\n",
       "      <td>9</td>\n",
       "      <td>LOC</td>\n",
       "      <td>31</td>\n",
       "      <td>39</td>\n",
       "      <td>True</td>\n",
       "      <td>LOC</td>\n",
       "    </tr>\n",
       "    <tr>\n",
       "      <th>4</th>\n",
       "      <td>B-LOC</td>\n",
       "      <td>0.999581</td>\n",
       "      <td>15</td>\n",
       "      <td>LOC</td>\n",
       "      <td>60</td>\n",
       "      <td>68</td>\n",
       "      <td>True</td>\n",
       "      <td>LOC</td>\n",
       "    </tr>\n",
       "  </tbody>\n",
       "</table>\n",
       "</div>"
      ],
      "text/plain": [
       "  entity     score  index word  start  end  beginning parentEntity\n",
       "0  B-ORG  0.997546      1  ORG      0    1       True          ORG\n",
       "1  I-ORG  0.973958      2  ORG      1    2      False          ORG\n",
       "2  I-ORG  0.978134      3  ORG      2    3      False          ORG\n",
       "3  B-LOC  0.995686      9  LOC     31   39       True          LOC\n",
       "4  B-LOC  0.999581     15  LOC     60   68       True          LOC"
      ]
     },
     "execution_count": 119,
     "metadata": {},
     "output_type": "execute_result"
    }
   ],
   "source": [
    "# df[\"groupStart\"] =  df[\"start\"]\n",
    "df[\"beginning\"] = df[\"entity\"].apply(lambda x: True if x[0] == \"B\" else False)\n",
    "# df[\"groupStart\"] = df.apply(lambda x: groupStart(x[\"start\"],x[\"beginning\"],x[\"groupStart\"]),axis=1)\n",
    "df[\"parentEntity\"] = df[\"entity\"].apply(lambda x:x[-3:])\n",
    "df[\"score\"]=df[\"score\"].astype(\"float64\")\n",
    "df[\"entity\"]=df[\"entity\"].astype(\"string\")\n",
    "df[\"word\"]=df[\"parentEntity\"].astype(\"string\")\n",
    "df[\"parentEntity\"]=df[\"parentEntity\"].astype(\"string\")\n",
    "df.dtypes"
   ]
  },
  {
   "cell_type": "code",
   "execution_count": 120,
   "metadata": {},
   "outputs": [],
   "source": [
    "js = df.to_json(orient = \"records\")"
   ]
  },
  {
   "cell_type": "code",
   "execution_count": 123,
   "metadata": {},
   "outputs": [
    {
     "data": {
      "text/plain": [
       "str"
      ]
     },
     "execution_count": 123,
     "metadata": {},
     "output_type": "execute_result"
    }
   ],
   "source": [
    "type(js)"
   ]
  }
 ],
 "metadata": {
  "kernelspec": {
   "display_name": "nlp",
   "language": "python",
   "name": "python3"
  },
  "language_info": {
   "codemirror_mode": {
    "name": "ipython",
    "version": 3
   },
   "file_extension": ".py",
   "mimetype": "text/x-python",
   "name": "python",
   "nbconvert_exporter": "python",
   "pygments_lexer": "ipython3",
   "version": "3.8.12"
  },
  "orig_nbformat": 4,
  "vscode": {
   "interpreter": {
    "hash": "cb2dbcd5bd0fc0765a15d7532228580257b44dd595574a93539611870986a949"
   }
  }
 },
 "nbformat": 4,
 "nbformat_minor": 2
}
